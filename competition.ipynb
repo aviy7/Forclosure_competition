{
  "nbformat": 4,
  "nbformat_minor": 0,
  "metadata": {
    "colab": {
      "name": "competition.ipynb",
      "version": "0.3.2",
      "provenance": [],
      "include_colab_link": true
    },
    "kernelspec": {
      "name": "python3",
      "display_name": "Python 3"
    }
  },
  "cells": [
    {
      "cell_type": "markdown",
      "metadata": {
        "id": "view-in-github",
        "colab_type": "text"
      },
      "source": [
        "<a href=\"https://colab.research.google.com/github/aviy7/Forclosure_competition/blob/master/competition.ipynb\" target=\"_parent\"><img src=\"https://colab.research.google.com/assets/colab-badge.svg\" alt=\"Open In Colab\"/></a>"
      ]
    },
    {
      "metadata": {
        "id": "ib57nNeEYnhZ",
        "colab_type": "code",
        "colab": {
          "base_uri": "https://localhost:8080/",
          "height": 119
        },
        "outputId": "fa69219c-4ad6-43d2-b7ec-05e99e49762f"
      },
      "cell_type": "code",
      "source": [
        "!ls -lart"
      ],
      "execution_count": 3,
      "outputs": [
        {
          "output_type": "stream",
          "text": [
            "total 166592\n",
            "-rw-r--r-- 1 root root 170568254 Feb  4 09:59 93fe009c-2-Foreclosure-Prediction-Dataset_.zip\n",
            "drwxr-xr-x 4 root root      4096 Mar  8 17:25 .config\n",
            "drwxr-xr-x 1 root root      4096 Mar  8 17:26 sample_data\n",
            "drwxr-xr-x 1 root root      4096 Mar 12 10:10 ..\n",
            "drwxr-xr-x 1 root root      4096 Mar 12 10:14 .\n"
          ],
          "name": "stdout"
        }
      ]
    },
    {
      "metadata": {
        "id": "YnyUdDBPZdUf",
        "colab_type": "code",
        "colab": {
          "base_uri": "https://localhost:8080/",
          "height": 119
        },
        "outputId": "74ecba38-34cd-486f-e14a-f8891322c42e"
      },
      "cell_type": "code",
      "source": [
        "!unzip 93fe009c-2-Foreclosure-Prediction-Dataset_.zip"
      ],
      "execution_count": 4,
      "outputs": [
        {
          "output_type": "stream",
          "text": [
            "Archive:  93fe009c-2-Foreclosure-Prediction-Dataset_.zip\n",
            "  inflating: Customers_31JAN2019.xlsx  \n",
            "  inflating: LMS_31JAN2019.xlsx      \n",
            "  inflating: RF_Final_Data.xlsx      \n",
            "  inflating: test_foreclosure.csv    \n",
            "  inflating: train_foreclosure.csv   \n"
          ],
          "name": "stdout"
        }
      ]
    },
    {
      "metadata": {
        "id": "SbSPRfo0Yvi0",
        "colab_type": "code",
        "colab": {
          "base_uri": "https://localhost:8080/",
          "height": 224
        },
        "outputId": "51496722-aa98-4304-e86b-5ae801434078"
      },
      "cell_type": "code",
      "source": [
        "!wget https://he-s3.s3.amazonaws.com/media/hackathon/machine-learning-Edelweiss/predict-forclosure-propensity/93fe009c-2-Foreclosure-Prediction-Dataset_.zip"
      ],
      "execution_count": 2,
      "outputs": [
        {
          "output_type": "stream",
          "text": [
            "--2019-03-12 10:14:29--  https://he-s3.s3.amazonaws.com/media/hackathon/machine-learning-Edelweiss/predict-forclosure-propensity/93fe009c-2-Foreclosure-Prediction-Dataset_.zip\n",
            "Resolving he-s3.s3.amazonaws.com (he-s3.s3.amazonaws.com)... 52.219.32.104\n",
            "Connecting to he-s3.s3.amazonaws.com (he-s3.s3.amazonaws.com)|52.219.32.104|:443... connected.\n",
            "HTTP request sent, awaiting response... 200 OK\n",
            "Length: 170568254 (163M) [application/zip]\n",
            "Saving to: ‘93fe009c-2-Foreclosure-Prediction-Dataset_.zip’\n",
            "\n",
            "93fe009c-2-Foreclos 100%[===================>] 162.67M  19.5MB/s    in 9.6s    \n",
            "\n",
            "2019-03-12 10:14:39 (17.0 MB/s) - ‘93fe009c-2-Foreclosure-Prediction-Dataset_.zip’ saved [170568254/170568254]\n",
            "\n"
          ],
          "name": "stdout"
        }
      ]
    },
    {
      "metadata": {
        "id": "IY2HIGUDZiqj",
        "colab_type": "code",
        "colab": {
          "base_uri": "https://localhost:8080/",
          "height": 204
        },
        "outputId": "eb25d45f-2eda-4fa2-831f-6cfb704b79f1"
      },
      "cell_type": "code",
      "source": [
        "!ls -lart"
      ],
      "execution_count": 5,
      "outputs": [
        {
          "output_type": "stream",
          "text": [
            "total 335900\n",
            "-rw-rw-r-- 1 root root    824121 Jan 31 10:21 Customers_31JAN2019.xlsx\n",
            "-rw-rw-r-- 1 root root 170839060 Jan 31 18:10 LMS_31JAN2019.xlsx\n",
            "-rw-rw-r-- 1 root root   1345595 Jan 31 18:23 RF_Final_Data.xlsx\n",
            "-rw-rw-r-- 1 root root    220156 Feb  2 23:26 train_foreclosure.csv\n",
            "-rw-rw-r-- 1 root root    133444 Feb  2 23:35 test_foreclosure.csv\n",
            "-rw-r--r-- 1 root root 170568254 Feb  4 09:59 93fe009c-2-Foreclosure-Prediction-Dataset_.zip\n",
            "drwxr-xr-x 4 root root      4096 Mar  8 17:25 .config\n",
            "drwxr-xr-x 1 root root      4096 Mar  8 17:26 sample_data\n",
            "drwxr-xr-x 1 root root      4096 Mar 12 10:10 ..\n",
            "drwxr-xr-x 1 root root      4096 Mar 12 10:15 .\n"
          ],
          "name": "stdout"
        }
      ]
    },
    {
      "metadata": {
        "id": "iLClHATZZoZL",
        "colab_type": "code",
        "colab": {}
      },
      "cell_type": "code",
      "source": [
        "import pandas as pd\n",
        "df = pd.read_csv(\"train_foreclosure.csv\")"
      ],
      "execution_count": 0,
      "outputs": []
    },
    {
      "metadata": {
        "id": "3N79mGhzZt4r",
        "colab_type": "code",
        "colab": {
          "base_uri": "https://localhost:8080/",
          "height": 51
        },
        "outputId": "eca7b812-6e96-4bf9-b894-cedcb1b01f8a"
      },
      "cell_type": "code",
      "source": [
        "df.head()\n",
        "print(df[\"AGREEMENTID\"].count())\n",
        "print(df[\"AGREEMENTID\"].nunique())"
      ],
      "execution_count": 22,
      "outputs": [
        {
          "output_type": "stream",
          "text": [
            "20012\n",
            "20012\n"
          ],
          "name": "stdout"
        }
      ]
    },
    {
      "metadata": {
        "id": "dwb6-whKaozn",
        "colab_type": "code",
        "colab": {}
      },
      "cell_type": "code",
      "source": [
        "test = pd.read_csv(\"test_foreclosure.csv\")"
      ],
      "execution_count": 0,
      "outputs": []
    },
    {
      "metadata": {
        "id": "v2T7XTPhayst",
        "colab_type": "code",
        "colab": {
          "base_uri": "https://localhost:8080/",
          "height": 34
        },
        "outputId": "d19184df-05dc-4bcd-844d-917aa9375900"
      },
      "cell_type": "code",
      "source": [
        "test[\"AGREEMENTID\"].nunique()"
      ],
      "execution_count": 21,
      "outputs": [
        {
          "output_type": "execute_result",
          "data": {
            "text/plain": [
              "13342"
            ]
          },
          "metadata": {
            "tags": []
          },
          "execution_count": 21
        }
      ]
    },
    {
      "metadata": {
        "id": "BgAW8P7ubsIW",
        "colab_type": "code",
        "colab": {}
      },
      "cell_type": "code",
      "source": [
        ""
      ],
      "execution_count": 0,
      "outputs": []
    },
    {
      "metadata": {
        "id": "gn_nKTogbsLY",
        "colab_type": "code",
        "colab": {
          "base_uri": "https://localhost:8080/",
          "height": 224
        },
        "outputId": "282458cc-39b9-4244-a114-7fa4620504cf"
      },
      "cell_type": "code",
      "source": [
        "customer = pd.read_excel(\"Customers_31JAN2019.xlsx\")\n",
        "customer.head()"
      ],
      "execution_count": 23,
      "outputs": [
        {
          "output_type": "execute_result",
          "data": {
            "text/html": [
              "<div>\n",
              "<style scoped>\n",
              "    .dataframe tbody tr th:only-of-type {\n",
              "        vertical-align: middle;\n",
              "    }\n",
              "\n",
              "    .dataframe tbody tr th {\n",
              "        vertical-align: top;\n",
              "    }\n",
              "\n",
              "    .dataframe thead th {\n",
              "        text-align: right;\n",
              "    }\n",
              "</style>\n",
              "<table border=\"1\" class=\"dataframe\">\n",
              "  <thead>\n",
              "    <tr style=\"text-align: right;\">\n",
              "      <th></th>\n",
              "      <th>CUSTOMERID</th>\n",
              "      <th>CUST_CONSTTYPE_ID</th>\n",
              "      <th>CUST_CATEGORYID</th>\n",
              "      <th>PROFESSION</th>\n",
              "      <th>AGE</th>\n",
              "      <th>SEX</th>\n",
              "      <th>MARITAL_STATUS</th>\n",
              "      <th>QUALIFICATION</th>\n",
              "      <th>NO_OF_DEPENDENT</th>\n",
              "      <th>OCCUPATION</th>\n",
              "      <th>POSITION</th>\n",
              "      <th>GROSS_INCOME</th>\n",
              "      <th>PRE_JOBYEARS</th>\n",
              "      <th>NETTAKEHOMEINCOME</th>\n",
              "      <th>BRANCH_PINCODE</th>\n",
              "    </tr>\n",
              "  </thead>\n",
              "  <tbody>\n",
              "    <tr>\n",
              "      <th>0</th>\n",
              "      <td>12001000</td>\n",
              "      <td>1</td>\n",
              "      <td>5</td>\n",
              "      <td>NaN</td>\n",
              "      <td>33.0</td>\n",
              "      <td>M</td>\n",
              "      <td>M</td>\n",
              "      <td>POSTGRAD</td>\n",
              "      <td>0.0</td>\n",
              "      <td>NaN</td>\n",
              "      <td>NaN</td>\n",
              "      <td>198375.221829</td>\n",
              "      <td>8.0</td>\n",
              "      <td>198375.221829</td>\n",
              "      <td>400070.0</td>\n",
              "    </tr>\n",
              "    <tr>\n",
              "      <th>1</th>\n",
              "      <td>12001001</td>\n",
              "      <td>1</td>\n",
              "      <td>5</td>\n",
              "      <td>NaN</td>\n",
              "      <td>44.0</td>\n",
              "      <td>M</td>\n",
              "      <td>M</td>\n",
              "      <td>POSTGRAD</td>\n",
              "      <td>0.0</td>\n",
              "      <td>NaN</td>\n",
              "      <td>NaN</td>\n",
              "      <td>242703.982915</td>\n",
              "      <td>10.0</td>\n",
              "      <td>242703.982915</td>\n",
              "      <td>400070.0</td>\n",
              "    </tr>\n",
              "    <tr>\n",
              "      <th>2</th>\n",
              "      <td>12001002</td>\n",
              "      <td>1</td>\n",
              "      <td>7</td>\n",
              "      <td>NaN</td>\n",
              "      <td>50.0</td>\n",
              "      <td>M</td>\n",
              "      <td>M</td>\n",
              "      <td>GRAD</td>\n",
              "      <td>0.0</td>\n",
              "      <td>NaN</td>\n",
              "      <td>NaN</td>\n",
              "      <td>0.000000</td>\n",
              "      <td>NaN</td>\n",
              "      <td>0.000000</td>\n",
              "      <td>400070.0</td>\n",
              "    </tr>\n",
              "    <tr>\n",
              "      <th>3</th>\n",
              "      <td>12001003</td>\n",
              "      <td>3</td>\n",
              "      <td>4</td>\n",
              "      <td>NaN</td>\n",
              "      <td>40.0</td>\n",
              "      <td>M</td>\n",
              "      <td>M</td>\n",
              "      <td>GRAD</td>\n",
              "      <td>0.0</td>\n",
              "      <td>NaN</td>\n",
              "      <td>NaN</td>\n",
              "      <td>365263.511624</td>\n",
              "      <td>NaN</td>\n",
              "      <td>365263.516128</td>\n",
              "      <td>400070.0</td>\n",
              "    </tr>\n",
              "    <tr>\n",
              "      <th>4</th>\n",
              "      <td>12001004</td>\n",
              "      <td>3</td>\n",
              "      <td>4</td>\n",
              "      <td>NaN</td>\n",
              "      <td>27.0</td>\n",
              "      <td>M</td>\n",
              "      <td>M</td>\n",
              "      <td>GRAD</td>\n",
              "      <td>0.0</td>\n",
              "      <td>NaN</td>\n",
              "      <td>NaN</td>\n",
              "      <td>187342.198995</td>\n",
              "      <td>NaN</td>\n",
              "      <td>187342.198995</td>\n",
              "      <td>400070.0</td>\n",
              "    </tr>\n",
              "  </tbody>\n",
              "</table>\n",
              "</div>"
            ],
            "text/plain": [
              "   CUSTOMERID  CUST_CONSTTYPE_ID  CUST_CATEGORYID  PROFESSION   AGE SEX  \\\n",
              "0    12001000                  1                5         NaN  33.0   M   \n",
              "1    12001001                  1                5         NaN  44.0   M   \n",
              "2    12001002                  1                7         NaN  50.0   M   \n",
              "3    12001003                  3                4         NaN  40.0   M   \n",
              "4    12001004                  3                4         NaN  27.0   M   \n",
              "\n",
              "  MARITAL_STATUS QUALIFICATION  NO_OF_DEPENDENT  OCCUPATION POSITION  \\\n",
              "0              M      POSTGRAD              0.0         NaN      NaN   \n",
              "1              M      POSTGRAD              0.0         NaN      NaN   \n",
              "2              M          GRAD              0.0         NaN      NaN   \n",
              "3              M          GRAD              0.0         NaN      NaN   \n",
              "4              M          GRAD              0.0         NaN      NaN   \n",
              "\n",
              "    GROSS_INCOME  PRE_JOBYEARS  NETTAKEHOMEINCOME  BRANCH_PINCODE  \n",
              "0  198375.221829           8.0      198375.221829        400070.0  \n",
              "1  242703.982915          10.0      242703.982915        400070.0  \n",
              "2       0.000000           NaN           0.000000        400070.0  \n",
              "3  365263.511624           NaN      365263.516128        400070.0  \n",
              "4  187342.198995           NaN      187342.198995        400070.0  "
            ]
          },
          "metadata": {
            "tags": []
          },
          "execution_count": 23
        }
      ]
    },
    {
      "metadata": {
        "id": "TaIhFGrVcdG5",
        "colab_type": "code",
        "colab": {
          "base_uri": "https://localhost:8080/",
          "height": 391
        },
        "outputId": "35c16dad-3ffd-4736-ae87-49a4e70d3731"
      },
      "cell_type": "code",
      "source": [
        "print(customer[\"CUSTOMERID\"].nunique())\n",
        "print(customer.info())\n",
        "\n"
      ],
      "execution_count": 33,
      "outputs": [
        {
          "output_type": "stream",
          "text": [
            "10000\n",
            "<class 'pandas.core.frame.DataFrame'>\n",
            "RangeIndex: 10000 entries, 0 to 9999\n",
            "Data columns (total 15 columns):\n",
            "CUSTOMERID           10000 non-null int64\n",
            "CUST_CONSTTYPE_ID    10000 non-null int64\n",
            "CUST_CATEGORYID      10000 non-null int64\n",
            "PROFESSION           0 non-null float64\n",
            "AGE                  9604 non-null float64\n",
            "SEX                  9606 non-null object\n",
            "MARITAL_STATUS       9604 non-null object\n",
            "QUALIFICATION        9397 non-null object\n",
            "NO_OF_DEPENDENT      9921 non-null float64\n",
            "OCCUPATION           0 non-null float64\n",
            "POSITION             661 non-null object\n",
            "GROSS_INCOME         10000 non-null float64\n",
            "PRE_JOBYEARS         2375 non-null float64\n",
            "NETTAKEHOMEINCOME    10000 non-null float64\n",
            "BRANCH_PINCODE       9927 non-null float64\n",
            "dtypes: float64(8), int64(3), object(4)\n",
            "memory usage: 1.1+ MB\n",
            "None\n"
          ],
          "name": "stdout"
        }
      ]
    },
    {
      "metadata": {
        "id": "Xkq0wG1Tcp6D",
        "colab_type": "code",
        "colab": {}
      },
      "cell_type": "code",
      "source": [
        "lms = pd.read_excel(\"LMS_31JAN2019.xlsx\")"
      ],
      "execution_count": 0,
      "outputs": []
    },
    {
      "metadata": {
        "id": "VrEFkiR-c54f",
        "colab_type": "code",
        "colab": {
          "base_uri": "https://localhost:8080/",
          "height": 1428
        },
        "outputId": "ab7829f5-8854-42c1-e21e-cb8cd25ee64b"
      },
      "cell_type": "code",
      "source": [
        "print(lms.info())\n",
        "print(lms.nunique())"
      ],
      "execution_count": 34,
      "outputs": [
        {
          "output_type": "stream",
          "text": [
            "<class 'pandas.core.frame.DataFrame'>\n",
            "RangeIndex: 624250 entries, 0 to 624249\n",
            "Data columns (total 38 columns):\n",
            "AGREEMENTID              624250 non-null int64\n",
            "CUSTOMERID               623734 non-null float64\n",
            "LOAN_AMT                 624250 non-null float64\n",
            "NET_DISBURSED_AMT        624250 non-null float64\n",
            "INTEREST_START_DATE      624250 non-null datetime64[ns]\n",
            "CURRENT_ROI              624250 non-null float64\n",
            "ORIGNAL_ROI              624250 non-null float64\n",
            "CURRENT_TENOR            624245 non-null float64\n",
            "ORIGNAL_TENOR            624250 non-null int64\n",
            "DUEDAY                   624250 non-null int64\n",
            "AUTHORIZATIONDATE        624250 non-null datetime64[ns]\n",
            "CITY                     624242 non-null object\n",
            "PRE_EMI_DUEAMT           624250 non-null float64\n",
            "PRE_EMI_RECEIVED_AMT     624250 non-null float64\n",
            "PRE_EMI_OS_AMOUNT        624250 non-null float64\n",
            "EMI_DUEAMT               624250 non-null float64\n",
            "EMI_RECEIVED_AMT         624250 non-null float64\n",
            "EMI_OS_AMOUNT            624250 non-null float64\n",
            "EXCESS_AVAILABLE         624250 non-null float64\n",
            "EXCESS_ADJUSTED_AMT      624250 non-null float64\n",
            "BALANCE_EXCESS           624250 non-null float64\n",
            "NET_RECEIVABLE           624250 non-null float64\n",
            "OUTSTANDING_PRINCIPAL    624250 non-null float64\n",
            "PAID_PRINCIPAL           624250 non-null float64\n",
            "PAID_INTEREST            624250 non-null float64\n",
            "MONTHOPENING             624250 non-null float64\n",
            "LAST_RECEIPT_DATE        620463 non-null datetime64[ns]\n",
            "LAST_RECEIPT_AMOUNT      612205 non-null float64\n",
            "NET_LTV                  624250 non-null float64\n",
            "COMPLETED_TENURE         624250 non-null int64\n",
            "BALANCE_TENURE           624245 non-null float64\n",
            "DPD                      624219 non-null float64\n",
            "FOIR                     624250 non-null float64\n",
            "PRODUCT                  624250 non-null object\n",
            "SCHEMEID                 623734 non-null float64\n",
            "NPA_IN_LAST_MONTH        13359 non-null object\n",
            "NPA_IN_CURRENT_MONTH     13436 non-null object\n",
            "MOB                      624250 non-null int64\n",
            "dtypes: datetime64[ns](3), float64(26), int64(5), object(4)\n",
            "memory usage: 181.0+ MB\n",
            "None\n",
            "AGREEMENTID               33354\n",
            "CUSTOMERID                32895\n",
            "LOAN_AMT                  13667\n",
            "NET_DISBURSED_AMT         17774\n",
            "INTEREST_START_DATE        1847\n",
            "CURRENT_ROI                 311\n",
            "ORIGNAL_ROI                 246\n",
            "CURRENT_TENOR               449\n",
            "ORIGNAL_TENOR                94\n",
            "DUEDAY                        3\n",
            "AUTHORIZATIONDATE          2481\n",
            "CITY                        316\n",
            "PRE_EMI_DUEAMT            28022\n",
            "PRE_EMI_RECEIVED_AMT      27763\n",
            "PRE_EMI_OS_AMOUNT           914\n",
            "EMI_DUEAMT               314986\n",
            "EMI_RECEIVED_AMT         313468\n",
            "EMI_OS_AMOUNT             24472\n",
            "EXCESS_AVAILABLE          18174\n",
            "EXCESS_ADJUSTED_AMT        9257\n",
            "BALANCE_EXCESS            10733\n",
            "NET_RECEIVABLE            37792\n",
            "OUTSTANDING_PRINCIPAL    437898\n",
            "PAID_PRINCIPAL           243571\n",
            "PAID_INTEREST            390829\n",
            "MONTHOPENING             436869\n",
            "LAST_RECEIPT_DATE          1664\n",
            "LAST_RECEIPT_AMOUNT       45060\n",
            "NET_LTV                    8110\n",
            "COMPLETED_TENURE             99\n",
            "BALANCE_TENURE              541\n",
            "DPD                         452\n",
            "FOIR                        495\n",
            "PRODUCT                       4\n",
            "SCHEMEID                    250\n",
            "NPA_IN_LAST_MONTH             5\n",
            "NPA_IN_CURRENT_MONTH          3\n",
            "MOB                          99\n",
            "dtype: int64\n"
          ],
          "name": "stdout"
        }
      ]
    },
    {
      "metadata": {
        "id": "v6HKBivFkP6e",
        "colab_type": "code",
        "colab": {}
      },
      "cell_type": "code",
      "source": [
        ""
      ],
      "execution_count": 0,
      "outputs": []
    },
    {
      "metadata": {
        "id": "1uVp_4PEc9lH",
        "colab_type": "code",
        "colab": {}
      },
      "cell_type": "code",
      "source": [
        "rf = pd.read_excel(\"RF_Final_Data.xlsx\")"
      ],
      "execution_count": 0,
      "outputs": []
    },
    {
      "metadata": {
        "id": "e_8JOYI-kaad",
        "colab_type": "code",
        "colab": {
          "base_uri": "https://localhost:8080/",
          "height": 187
        },
        "outputId": "dcb5ddb5-80a1-4c5b-ec16-85d0ca2edeff"
      },
      "cell_type": "code",
      "source": [
        "rf.nunique()"
      ],
      "execution_count": 30,
      "outputs": [
        {
          "output_type": "execute_result",
          "data": {
            "text/plain": [
              "TicketId                  7511\n",
              "Type                         8\n",
              "SubType                     50\n",
              "Status                       4\n",
              "Date                      6057\n",
              "Preprocessed_EmailBody    7184\n",
              "Preprocessed_Subject      5830\n",
              "Masked_CustomerID         2709\n",
              "Masked_AgreementID         402\n",
              "dtype: int64"
            ]
          },
          "metadata": {
            "tags": []
          },
          "execution_count": 30
        }
      ]
    },
    {
      "metadata": {
        "id": "tihThO2NlOC5",
        "colab_type": "code",
        "colab": {}
      },
      "cell_type": "code",
      "source": [
        ""
      ],
      "execution_count": 0,
      "outputs": []
    },
    {
      "metadata": {
        "id": "fpK_mv98lOMQ",
        "colab_type": "code",
        "colab": {
          "base_uri": "https://localhost:8080/",
          "height": 284
        },
        "outputId": "36b3bafa-4f8a-490b-83fc-aa5c06f31c72"
      },
      "cell_type": "code",
      "source": [
        "df_final = lms.set_index(\"CUSTOMERID\").join(customer.set_index('CUSTOMERID'))\n",
        "df_final.head()"
      ],
      "execution_count": 36,
      "outputs": [
        {
          "output_type": "execute_result",
          "data": {
            "text/html": [
              "<div>\n",
              "<style scoped>\n",
              "    .dataframe tbody tr th:only-of-type {\n",
              "        vertical-align: middle;\n",
              "    }\n",
              "\n",
              "    .dataframe tbody tr th {\n",
              "        vertical-align: top;\n",
              "    }\n",
              "\n",
              "    .dataframe thead th {\n",
              "        text-align: right;\n",
              "    }\n",
              "</style>\n",
              "<table border=\"1\" class=\"dataframe\">\n",
              "  <thead>\n",
              "    <tr style=\"text-align: right;\">\n",
              "      <th></th>\n",
              "      <th>AGREEMENTID</th>\n",
              "      <th>LOAN_AMT</th>\n",
              "      <th>NET_DISBURSED_AMT</th>\n",
              "      <th>INTEREST_START_DATE</th>\n",
              "      <th>CURRENT_ROI</th>\n",
              "      <th>ORIGNAL_ROI</th>\n",
              "      <th>CURRENT_TENOR</th>\n",
              "      <th>ORIGNAL_TENOR</th>\n",
              "      <th>DUEDAY</th>\n",
              "      <th>AUTHORIZATIONDATE</th>\n",
              "      <th>...</th>\n",
              "      <th>SEX</th>\n",
              "      <th>MARITAL_STATUS</th>\n",
              "      <th>QUALIFICATION</th>\n",
              "      <th>NO_OF_DEPENDENT</th>\n",
              "      <th>OCCUPATION</th>\n",
              "      <th>POSITION</th>\n",
              "      <th>GROSS_INCOME</th>\n",
              "      <th>PRE_JOBYEARS</th>\n",
              "      <th>NETTAKEHOMEINCOME</th>\n",
              "      <th>BRANCH_PINCODE</th>\n",
              "    </tr>\n",
              "    <tr>\n",
              "      <th>CUSTOMERID</th>\n",
              "      <th></th>\n",
              "      <th></th>\n",
              "      <th></th>\n",
              "      <th></th>\n",
              "      <th></th>\n",
              "      <th></th>\n",
              "      <th></th>\n",
              "      <th></th>\n",
              "      <th></th>\n",
              "      <th></th>\n",
              "      <th></th>\n",
              "      <th></th>\n",
              "      <th></th>\n",
              "      <th></th>\n",
              "      <th></th>\n",
              "      <th></th>\n",
              "      <th></th>\n",
              "      <th></th>\n",
              "      <th></th>\n",
              "      <th></th>\n",
              "      <th></th>\n",
              "    </tr>\n",
              "  </thead>\n",
              "  <tbody>\n",
              "    <tr>\n",
              "      <th>12001000.0</th>\n",
              "      <td>11220001</td>\n",
              "      <td>11710107.24</td>\n",
              "      <td>11710107.24</td>\n",
              "      <td>2010-08-30</td>\n",
              "      <td>13.734072</td>\n",
              "      <td>10.612692</td>\n",
              "      <td>58.0</td>\n",
              "      <td>120</td>\n",
              "      <td>1</td>\n",
              "      <td>2010-08-29</td>\n",
              "      <td>...</td>\n",
              "      <td>M</td>\n",
              "      <td>M</td>\n",
              "      <td>POSTGRAD</td>\n",
              "      <td>0.0</td>\n",
              "      <td>NaN</td>\n",
              "      <td>NaN</td>\n",
              "      <td>198375.221829</td>\n",
              "      <td>8.0</td>\n",
              "      <td>198375.221829</td>\n",
              "      <td>400070.0</td>\n",
              "    </tr>\n",
              "    <tr>\n",
              "      <th>12001000.0</th>\n",
              "      <td>11220001</td>\n",
              "      <td>11710107.24</td>\n",
              "      <td>11710107.24</td>\n",
              "      <td>2010-08-30</td>\n",
              "      <td>13.734072</td>\n",
              "      <td>10.612692</td>\n",
              "      <td>58.0</td>\n",
              "      <td>120</td>\n",
              "      <td>1</td>\n",
              "      <td>2010-08-29</td>\n",
              "      <td>...</td>\n",
              "      <td>M</td>\n",
              "      <td>M</td>\n",
              "      <td>POSTGRAD</td>\n",
              "      <td>0.0</td>\n",
              "      <td>NaN</td>\n",
              "      <td>NaN</td>\n",
              "      <td>198375.221829</td>\n",
              "      <td>8.0</td>\n",
              "      <td>198375.221829</td>\n",
              "      <td>400070.0</td>\n",
              "    </tr>\n",
              "    <tr>\n",
              "      <th>12001000.0</th>\n",
              "      <td>11220001</td>\n",
              "      <td>11710107.24</td>\n",
              "      <td>11710107.24</td>\n",
              "      <td>2010-08-30</td>\n",
              "      <td>13.421934</td>\n",
              "      <td>10.612692</td>\n",
              "      <td>58.0</td>\n",
              "      <td>120</td>\n",
              "      <td>1</td>\n",
              "      <td>2010-08-29</td>\n",
              "      <td>...</td>\n",
              "      <td>M</td>\n",
              "      <td>M</td>\n",
              "      <td>POSTGRAD</td>\n",
              "      <td>0.0</td>\n",
              "      <td>NaN</td>\n",
              "      <td>NaN</td>\n",
              "      <td>198375.221829</td>\n",
              "      <td>8.0</td>\n",
              "      <td>198375.221829</td>\n",
              "      <td>400070.0</td>\n",
              "    </tr>\n",
              "    <tr>\n",
              "      <th>12001000.0</th>\n",
              "      <td>11220001</td>\n",
              "      <td>11710107.24</td>\n",
              "      <td>11710107.24</td>\n",
              "      <td>2010-08-30</td>\n",
              "      <td>13.421934</td>\n",
              "      <td>10.612692</td>\n",
              "      <td>58.0</td>\n",
              "      <td>120</td>\n",
              "      <td>1</td>\n",
              "      <td>1970-08-30</td>\n",
              "      <td>...</td>\n",
              "      <td>M</td>\n",
              "      <td>M</td>\n",
              "      <td>POSTGRAD</td>\n",
              "      <td>0.0</td>\n",
              "      <td>NaN</td>\n",
              "      <td>NaN</td>\n",
              "      <td>198375.221829</td>\n",
              "      <td>8.0</td>\n",
              "      <td>198375.221829</td>\n",
              "      <td>400070.0</td>\n",
              "    </tr>\n",
              "    <tr>\n",
              "      <th>12001000.0</th>\n",
              "      <td>11220001</td>\n",
              "      <td>11710107.24</td>\n",
              "      <td>11710107.24</td>\n",
              "      <td>2010-08-30</td>\n",
              "      <td>13.421934</td>\n",
              "      <td>10.612692</td>\n",
              "      <td>58.0</td>\n",
              "      <td>120</td>\n",
              "      <td>1</td>\n",
              "      <td>2010-08-29</td>\n",
              "      <td>...</td>\n",
              "      <td>M</td>\n",
              "      <td>M</td>\n",
              "      <td>POSTGRAD</td>\n",
              "      <td>0.0</td>\n",
              "      <td>NaN</td>\n",
              "      <td>NaN</td>\n",
              "      <td>198375.221829</td>\n",
              "      <td>8.0</td>\n",
              "      <td>198375.221829</td>\n",
              "      <td>400070.0</td>\n",
              "    </tr>\n",
              "  </tbody>\n",
              "</table>\n",
              "<p>5 rows × 51 columns</p>\n",
              "</div>"
            ],
            "text/plain": [
              "            AGREEMENTID     LOAN_AMT  NET_DISBURSED_AMT INTEREST_START_DATE  \\\n",
              "CUSTOMERID                                                                    \n",
              "12001000.0     11220001  11710107.24        11710107.24          2010-08-30   \n",
              "12001000.0     11220001  11710107.24        11710107.24          2010-08-30   \n",
              "12001000.0     11220001  11710107.24        11710107.24          2010-08-30   \n",
              "12001000.0     11220001  11710107.24        11710107.24          2010-08-30   \n",
              "12001000.0     11220001  11710107.24        11710107.24          2010-08-30   \n",
              "\n",
              "            CURRENT_ROI  ORIGNAL_ROI  CURRENT_TENOR  ORIGNAL_TENOR  DUEDAY  \\\n",
              "CUSTOMERID                                                                   \n",
              "12001000.0    13.734072    10.612692           58.0            120       1   \n",
              "12001000.0    13.734072    10.612692           58.0            120       1   \n",
              "12001000.0    13.421934    10.612692           58.0            120       1   \n",
              "12001000.0    13.421934    10.612692           58.0            120       1   \n",
              "12001000.0    13.421934    10.612692           58.0            120       1   \n",
              "\n",
              "           AUTHORIZATIONDATE       ...       SEX  MARITAL_STATUS  \\\n",
              "CUSTOMERID                         ...                             \n",
              "12001000.0        2010-08-29       ...         M               M   \n",
              "12001000.0        2010-08-29       ...         M               M   \n",
              "12001000.0        2010-08-29       ...         M               M   \n",
              "12001000.0        1970-08-30       ...         M               M   \n",
              "12001000.0        2010-08-29       ...         M               M   \n",
              "\n",
              "            QUALIFICATION  NO_OF_DEPENDENT  OCCUPATION  POSITION  \\\n",
              "CUSTOMERID                                                         \n",
              "12001000.0       POSTGRAD              0.0         NaN       NaN   \n",
              "12001000.0       POSTGRAD              0.0         NaN       NaN   \n",
              "12001000.0       POSTGRAD              0.0         NaN       NaN   \n",
              "12001000.0       POSTGRAD              0.0         NaN       NaN   \n",
              "12001000.0       POSTGRAD              0.0         NaN       NaN   \n",
              "\n",
              "             GROSS_INCOME  PRE_JOBYEARS  NETTAKEHOMEINCOME  BRANCH_PINCODE  \n",
              "CUSTOMERID                                                                  \n",
              "12001000.0  198375.221829           8.0      198375.221829        400070.0  \n",
              "12001000.0  198375.221829           8.0      198375.221829        400070.0  \n",
              "12001000.0  198375.221829           8.0      198375.221829        400070.0  \n",
              "12001000.0  198375.221829           8.0      198375.221829        400070.0  \n",
              "12001000.0  198375.221829           8.0      198375.221829        400070.0  \n",
              "\n",
              "[5 rows x 51 columns]"
            ]
          },
          "metadata": {
            "tags": []
          },
          "execution_count": 36
        }
      ]
    },
    {
      "metadata": {
        "id": "aPTkmoxtokMd",
        "colab_type": "code",
        "colab": {
          "base_uri": "https://localhost:8080/",
          "height": 629
        },
        "outputId": "56926d34-645c-4c9d-bc2a-22ce5b55bd96"
      },
      "cell_type": "code",
      "source": [
        "df_final = df_final.join(rf.set_index(\"Masked_CustomerID\"))\n",
        "print(df_final.head)"
      ],
      "execution_count": 37,
      "outputs": [
        {
          "output_type": "stream",
          "text": [
            "            AGREEMENTID     LOAN_AMT  NET_DISBURSED_AMT INTEREST_START_DATE  \\\n",
            "12001000.0     11220001  11710107.24        11710107.24          2010-08-30   \n",
            "12001000.0     11220001  11710107.24        11710107.24          2010-08-30   \n",
            "12001000.0     11220001  11710107.24        11710107.24          2010-08-30   \n",
            "12001000.0     11220001  11710107.24        11710107.24          2010-08-30   \n",
            "12001000.0     11220001  11710107.24        11710107.24          2010-08-30   \n",
            "\n",
            "            CURRENT_ROI  ORIGNAL_ROI  CURRENT_TENOR  ORIGNAL_TENOR  DUEDAY  \\\n",
            "12001000.0    13.734072    10.612692           58.0            120       1   \n",
            "12001000.0    13.734072    10.612692           58.0            120       1   \n",
            "12001000.0    13.421934    10.612692           58.0            120       1   \n",
            "12001000.0    13.421934    10.612692           58.0            120       1   \n",
            "12001000.0    13.421934    10.612692           58.0            120       1   \n",
            "\n",
            "           AUTHORIZATIONDATE         ...         NETTAKEHOMEINCOME  \\\n",
            "12001000.0        2010-08-29         ...             198375.221829   \n",
            "12001000.0        2010-08-29         ...             198375.221829   \n",
            "12001000.0        2010-08-29         ...             198375.221829   \n",
            "12001000.0        1970-08-30         ...             198375.221829   \n",
            "12001000.0        2010-08-29         ...             198375.221829   \n",
            "\n",
            "            BRANCH_PINCODE  TicketId  Type  SubType  Status  Date  \\\n",
            "12001000.0        400070.0       NaN   NaN      NaN     NaN   NaN   \n",
            "12001000.0        400070.0       NaN   NaN      NaN     NaN   NaN   \n",
            "12001000.0        400070.0       NaN   NaN      NaN     NaN   NaN   \n",
            "12001000.0        400070.0       NaN   NaN      NaN     NaN   NaN   \n",
            "12001000.0        400070.0       NaN   NaN      NaN     NaN   NaN   \n",
            "\n",
            "            Preprocessed_EmailBody  Preprocessed_Subject  Masked_AgreementID  \n",
            "12001000.0                     NaN                   NaN                 NaN  \n",
            "12001000.0                     NaN                   NaN                 NaN  \n",
            "12001000.0                     NaN                   NaN                 NaN  \n",
            "12001000.0                     NaN                   NaN                 NaN  \n",
            "12001000.0                     NaN                   NaN                 NaN  \n",
            "\n",
            "[5 rows x 59 columns]\n"
          ],
          "name": "stdout"
        }
      ]
    },
    {
      "metadata": {
        "id": "6eQLHn3-pCkZ",
        "colab_type": "code",
        "colab": {
          "base_uri": "https://localhost:8080/",
          "height": 1105
        },
        "outputId": "b76e8fd1-c887-40fe-a082-f452770b5c75"
      },
      "cell_type": "code",
      "source": [
        "df_final.info()"
      ],
      "execution_count": 39,
      "outputs": [
        {
          "output_type": "stream",
          "text": [
            "<class 'pandas.core.frame.DataFrame'>\n",
            "Float64Index: 788957 entries, 12001000.0 to nan\n",
            "Data columns (total 59 columns):\n",
            "AGREEMENTID               788957 non-null int64\n",
            "LOAN_AMT                  788957 non-null float64\n",
            "NET_DISBURSED_AMT         788957 non-null float64\n",
            "INTEREST_START_DATE       788957 non-null datetime64[ns]\n",
            "CURRENT_ROI               788957 non-null float64\n",
            "ORIGNAL_ROI               788957 non-null float64\n",
            "CURRENT_TENOR             788952 non-null float64\n",
            "ORIGNAL_TENOR             788957 non-null int64\n",
            "DUEDAY                    788957 non-null int64\n",
            "AUTHORIZATIONDATE         788957 non-null datetime64[ns]\n",
            "CITY                      788949 non-null object\n",
            "PRE_EMI_DUEAMT            788957 non-null float64\n",
            "PRE_EMI_RECEIVED_AMT      788957 non-null float64\n",
            "PRE_EMI_OS_AMOUNT         788957 non-null float64\n",
            "EMI_DUEAMT                788957 non-null float64\n",
            "EMI_RECEIVED_AMT          788957 non-null float64\n",
            "EMI_OS_AMOUNT             788957 non-null float64\n",
            "EXCESS_AVAILABLE          788957 non-null float64\n",
            "EXCESS_ADJUSTED_AMT       788957 non-null float64\n",
            "BALANCE_EXCESS            788957 non-null float64\n",
            "NET_RECEIVABLE            788957 non-null float64\n",
            "OUTSTANDING_PRINCIPAL     788957 non-null float64\n",
            "PAID_PRINCIPAL            788957 non-null float64\n",
            "PAID_INTEREST             788957 non-null float64\n",
            "MONTHOPENING              788957 non-null float64\n",
            "LAST_RECEIPT_DATE         784828 non-null datetime64[ns]\n",
            "LAST_RECEIPT_AMOUNT       773791 non-null float64\n",
            "NET_LTV                   788957 non-null float64\n",
            "COMPLETED_TENURE          788957 non-null int64\n",
            "BALANCE_TENURE            788952 non-null float64\n",
            "DPD                       788894 non-null float64\n",
            "FOIR                      788957 non-null float64\n",
            "PRODUCT                   788957 non-null object\n",
            "SCHEMEID                  788441 non-null float64\n",
            "NPA_IN_LAST_MONTH         16257 non-null object\n",
            "NPA_IN_CURRENT_MONTH      16348 non-null object\n",
            "MOB                       788957 non-null int64\n",
            "CUST_CONSTTYPE_ID         475651 non-null float64\n",
            "CUST_CATEGORYID           475651 non-null float64\n",
            "PROFESSION                0 non-null float64\n",
            "AGE                       438789 non-null float64\n",
            "SEX                       438915 non-null object\n",
            "MARITAL_STATUS            438789 non-null object\n",
            "QUALIFICATION             432233 non-null object\n",
            "NO_OF_DEPENDENT           471511 non-null float64\n",
            "OCCUPATION                0 non-null float64\n",
            "POSITION                  34362 non-null object\n",
            "GROSS_INCOME              475651 non-null float64\n",
            "PRE_JOBYEARS              124826 non-null float64\n",
            "NETTAKEHOMEINCOME         475651 non-null float64\n",
            "BRANCH_PINCODE            471743 non-null float64\n",
            "TicketId                  243393 non-null float64\n",
            "Type                      243393 non-null object\n",
            "SubType                   243393 non-null object\n",
            "Status                    243393 non-null object\n",
            "Date                      243393 non-null object\n",
            "Preprocessed_EmailBody    238673 non-null object\n",
            "Preprocessed_Subject      237766 non-null object\n",
            "Masked_AgreementID        243393 non-null float64\n",
            "dtypes: datetime64[ns](3), float64(37), int64(5), object(14)\n",
            "memory usage: 361.2+ MB\n"
          ],
          "name": "stdout"
        }
      ]
    },
    {
      "metadata": {
        "id": "umZk8X0mpZD8",
        "colab_type": "code",
        "colab": {
          "base_uri": "https://localhost:8080/",
          "height": 1071
        },
        "outputId": "9c4d1e81-1e85-4837-e10c-616de716cc22"
      },
      "cell_type": "code",
      "source": [
        "customer[\"OCCUPATION\"]"
      ],
      "execution_count": 40,
      "outputs": [
        {
          "output_type": "execute_result",
          "data": {
            "text/plain": [
              "0      NaN\n",
              "1      NaN\n",
              "2      NaN\n",
              "3      NaN\n",
              "4      NaN\n",
              "5      NaN\n",
              "6      NaN\n",
              "7      NaN\n",
              "8      NaN\n",
              "9      NaN\n",
              "10     NaN\n",
              "11     NaN\n",
              "12     NaN\n",
              "13     NaN\n",
              "14     NaN\n",
              "15     NaN\n",
              "16     NaN\n",
              "17     NaN\n",
              "18     NaN\n",
              "19     NaN\n",
              "20     NaN\n",
              "21     NaN\n",
              "22     NaN\n",
              "23     NaN\n",
              "24     NaN\n",
              "25     NaN\n",
              "26     NaN\n",
              "27     NaN\n",
              "28     NaN\n",
              "29     NaN\n",
              "        ..\n",
              "9970   NaN\n",
              "9971   NaN\n",
              "9972   NaN\n",
              "9973   NaN\n",
              "9974   NaN\n",
              "9975   NaN\n",
              "9976   NaN\n",
              "9977   NaN\n",
              "9978   NaN\n",
              "9979   NaN\n",
              "9980   NaN\n",
              "9981   NaN\n",
              "9982   NaN\n",
              "9983   NaN\n",
              "9984   NaN\n",
              "9985   NaN\n",
              "9986   NaN\n",
              "9987   NaN\n",
              "9988   NaN\n",
              "9989   NaN\n",
              "9990   NaN\n",
              "9991   NaN\n",
              "9992   NaN\n",
              "9993   NaN\n",
              "9994   NaN\n",
              "9995   NaN\n",
              "9996   NaN\n",
              "9997   NaN\n",
              "9998   NaN\n",
              "9999   NaN\n",
              "Name: OCCUPATION, Length: 10000, dtype: float64"
            ]
          },
          "metadata": {
            "tags": []
          },
          "execution_count": 40
        }
      ]
    },
    {
      "metadata": {
        "id": "5PZzAeL0p3UH",
        "colab_type": "code",
        "colab": {}
      },
      "cell_type": "code",
      "source": [
        "df_final.to_csv(\"final_data.csv\")"
      ],
      "execution_count": 0,
      "outputs": []
    },
    {
      "metadata": {
        "id": "sQq96qF6qM_7",
        "colab_type": "code",
        "colab": {
          "base_uri": "https://localhost:8080/",
          "height": 34
        },
        "outputId": "d97be31b-6e48-4405-8f8d-2c1f718cf119"
      },
      "cell_type": "code",
      "source": [
        "!zip final_data.zip final_data.csv"
      ],
      "execution_count": 42,
      "outputs": [
        {
          "output_type": "stream",
          "text": [
            "  adding: final_data.csv (deflated 90%)\n"
          ],
          "name": "stdout"
        }
      ]
    },
    {
      "metadata": {
        "id": "3o5KsctmqW5R",
        "colab_type": "code",
        "colab": {}
      },
      "cell_type": "code",
      "source": [
        "from google.colab import files\n",
        "files.download('final_data.zip')"
      ],
      "execution_count": 0,
      "outputs": []
    }
  ]
}